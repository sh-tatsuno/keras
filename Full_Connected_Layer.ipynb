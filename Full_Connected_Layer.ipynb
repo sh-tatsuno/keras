{
 "cells": [
  {
   "cell_type": "code",
   "execution_count": 1,
   "metadata": {
    "collapsed": false
   },
   "outputs": [
    {
     "name": "stderr",
     "output_type": "stream",
     "text": [
      "Using TensorFlow backend.\n"
     ]
    }
   ],
   "source": [
    "from __future__ import print_function\n",
    "\n",
    "from keras.datasets import mnist\n",
    "from keras.optimizers import RMSprop\n",
    "from keras.utils import np_utils\n",
    "from keras import objectives\n",
    "from keras.callbacks import EarlyStopping\n",
    "from keras.layers import Input, Dense, Lambda\n",
    "from keras.layers.core import Dropout\n",
    "from keras.models import Model\n",
    "from keras import backend as K\n",
    "from keras.utils.visualize_util import plot\n",
    "from IPython.display import Image\n",
    "\n",
    "import numpy as np\n",
    "import matplotlib.pyplot as plt\n",
    "%matplotlib inline"
   ]
  },
  {
   "cell_type": "code",
   "execution_count": 2,
   "metadata": {
    "collapsed": true
   },
   "outputs": [],
   "source": [
    "batch_size = 128\n",
    "nb_classes = 10"
   ]
  },
  {
   "cell_type": "code",
   "execution_count": 3,
   "metadata": {
    "collapsed": true
   },
   "outputs": [],
   "source": [
    "# load MNIST data\n",
    "(X_train, y_train), (X_test, y_test) = mnist.load_data()\n",
    "\n",
    "X_train = X_train.reshape(60000, 784).astype('float32')\n",
    "X_test = X_test.reshape(10000, 784).astype('float32')\n",
    "X_train /= 255.0\n",
    "X_test /= 255.0\n",
    "\n",
    "# convert class vectors to 1-of-K format\n",
    "y_train = np_utils.to_categorical(y_train, nb_classes)\n",
    "y_test = np_utils.to_categorical(y_test, nb_classes)"
   ]
  },
  {
   "cell_type": "code",
   "execution_count": 4,
   "metadata": {
    "collapsed": false
   },
   "outputs": [
    {
     "name": "stdout",
     "output_type": "stream",
     "text": [
      "train samples:  (60000, 784)\n",
      "test samples:  (10000, 784)\n"
     ]
    }
   ],
   "source": [
    "print('train samples: ', X_train.shape)\n",
    "print('test samples: ', X_test.shape)"
   ]
  },
  {
   "cell_type": "markdown",
   "metadata": {},
   "source": [
    "## Full Connected Layer"
   ]
  },
  {
   "cell_type": "code",
   "execution_count": 5,
   "metadata": {
    "collapsed": true
   },
   "outputs": [],
   "source": [
    "in_layer = Input((784,))\n",
    "hidden = Dense(512, activation = 'relu')(in_layer)\n",
    "hidden = Dense(512, activation = 'relu')(hidden)\n",
    "output = Dense(10, activation = 'softmax')(hidden)"
   ]
  },
  {
   "cell_type": "code",
   "execution_count": 6,
   "metadata": {
    "collapsed": true
   },
   "outputs": [],
   "source": [
    "model = Model(input=in_layer, output=output)\n",
    "model.compile(loss='categorical_crossentropy',\n",
    "              optimizer=RMSprop(),\n",
    "              metrics=['accuracy'])\n",
    "early_stopping = EarlyStopping(monitor='val_loss', patience=2)"
   ]
  },
  {
   "cell_type": "code",
   "execution_count": 7,
   "metadata": {
    "collapsed": false,
    "scrolled": true
   },
   "outputs": [
    {
     "name": "stdout",
     "output_type": "stream",
     "text": [
      "Train on 54000 samples, validate on 6000 samples\n",
      "Epoch 1/100\n",
      "54000/54000 [==============================] - 21s - loss: 0.2390 - acc: 0.9254 - val_loss: 0.0918 - val_acc: 0.9728\n",
      "Epoch 2/100\n",
      "54000/54000 [==============================] - 26s - loss: 0.0855 - acc: 0.9739 - val_loss: 0.0720 - val_acc: 0.9788\n",
      "Epoch 3/100\n",
      "54000/54000 [==============================] - 26s - loss: 0.0568 - acc: 0.9821 - val_loss: 0.0787 - val_acc: 0.9783\n",
      "Epoch 4/100\n",
      "54000/54000 [==============================] - 24s - loss: 0.0407 - acc: 0.9874 - val_loss: 0.0852 - val_acc: 0.9772\n",
      "Epoch 5/100\n",
      "54000/54000 [==============================] - 18s - loss: 0.0287 - acc: 0.9910 - val_loss: 0.0829 - val_acc: 0.9790\n"
     ]
    }
   ],
   "source": [
    "hist = model.fit(X_train, y_train,\n",
    "                 batch_size=batch_size,\n",
    "                 verbose=1,\n",
    "                 nb_epoch=100,\n",
    "                 validation_split=0.1,\n",
    "                 callbacks=[early_stopping]\n",
    "                 )"
   ]
  },
  {
   "cell_type": "code",
   "execution_count": 8,
   "metadata": {
    "collapsed": false
   },
   "outputs": [
    {
     "name": "stdout",
     "output_type": "stream",
     "text": [
      "10000/10000 [==============================] - 2s     \n",
      "Test loss: 0.0830930528447\n",
      "Test accuracy: 0.9796\n"
     ]
    }
   ],
   "source": [
    "# evaluate\n",
    "score = model.evaluate(X_test, y_test, verbose=1)\n",
    "print('Test loss:', score[0])\n",
    "print('Test accuracy:', score[1])"
   ]
  },
  {
   "cell_type": "code",
   "execution_count": 9,
   "metadata": {
    "collapsed": false
   },
   "outputs": [
    {
     "name": "stdout",
     "output_type": "stream",
     "text": [
      "[7 2 1 0 4 1 4 9 6 9]\n",
      "[7 2 1 0 4 1 4 9 5 9]\n"
     ]
    }
   ],
   "source": [
    "print (np.argmax(model.predict(X_test[:10]),axis=1))\n",
    "print (np.argmax(y_test[:10],axis=1))"
   ]
  },
  {
   "cell_type": "code",
   "execution_count": 10,
   "metadata": {
    "collapsed": false
   },
   "outputs": [
    {
     "data": {
      "image/png": "[encoded data removed]",
      "text/plain": [
       "<matplotlib.figure.Figure at 0x10d624750>"
      ]
     },
     "metadata": {},
     "output_type": "display_data"
    }
   ],
   "source": [
    "# plot loss\n",
    "loss = hist.history['loss']\n",
    "val_loss = hist.history['val_loss']\n",
    "\n",
    "nb_epoch = len(loss)\n",
    "plt.plot(range(nb_epoch), loss, marker='.', label='loss')\n",
    "plt.plot(range(nb_epoch), val_loss, marker='.', label='val_loss')\n",
    "plt.legend(loc='best', fontsize=10)\n",
    "plt.grid()\n",
    "plt.xlabel('epoch')\n",
    "plt.ylabel('loss')\n",
    "plt.show()"
   ]
  },
  {
   "cell_type": "code",
   "execution_count": 11,
   "metadata": {
    "collapsed": false
   },
   "outputs": [
    {
     "data": {
      "image/png": "[encoded data removed]",
      "text/plain": [
       "<IPython.core.display.Image object>"
      ]
     },
     "execution_count": 11,
     "metadata": {},
     "output_type": "execute_result"
    }
   ],
   "source": [
    "plot(model, to_file='model.png')\n",
    "Image(filename='model.png')"
   ]
  },
  {
   "cell_type": "markdown",
   "metadata": {
    "collapsed": true
   },
   "source": [
    "## Full Connected Layer with DropOut"
   ]
  },
  {
   "cell_type": "code",
   "execution_count": 12,
   "metadata": {
    "collapsed": true
   },
   "outputs": [],
   "source": [
    "in_layer2 = Input((784,))\n",
    "hidden2 = Dropout(0.2)(Dense(512, activation = 'relu')(in_layer2))\n",
    "hidden2 = Dropout(0.2)(Dense(512, activation = 'relu')(hidden2))\n",
    "output2 = Dense(10, activation = 'softmax')(hidden2)"
   ]
  },
  {
   "cell_type": "code",
   "execution_count": 13,
   "metadata": {
    "collapsed": false
   },
   "outputs": [],
   "source": [
    "model2 = Model(input=in_layer2, output=output2)\n",
    "model2.compile(loss='categorical_crossentropy',\n",
    "              optimizer=RMSprop(),\n",
    "              metrics=['accuracy'])\n",
    "early_stopping = EarlyStopping(monitor='val_loss', patience=2)"
   ]
  },
  {
   "cell_type": "code",
   "execution_count": 14,
   "metadata": {
    "collapsed": false
   },
   "outputs": [
    {
     "name": "stdout",
     "output_type": "stream",
     "text": [
      "Train on 54000 samples, validate on 6000 samples\n",
      "Epoch 1/100\n",
      "54000/54000 [==============================] - 20s - loss: 0.2665 - acc: 0.9178 - val_loss: 0.1063 - val_acc: 0.9677\n",
      "Epoch 2/100\n",
      "54000/54000 [==============================] - 20s - loss: 0.1053 - acc: 0.9675 - val_loss: 0.0867 - val_acc: 0.9747\n",
      "Epoch 3/100\n",
      "54000/54000 [==============================] - 19s - loss: 0.0789 - acc: 0.9760 - val_loss: 0.0782 - val_acc: 0.9775\n",
      "Epoch 4/100\n",
      "54000/54000 [==============================] - 19s - loss: 0.0611 - acc: 0.9812 - val_loss: 0.0665 - val_acc: 0.9810\n",
      "Epoch 5/100\n",
      "54000/54000 [==============================] - 20s - loss: 0.0519 - acc: 0.9850 - val_loss: 0.0765 - val_acc: 0.9808\n",
      "Epoch 6/100\n",
      "54000/54000 [==============================] - 20s - loss: 0.0437 - acc: 0.9869 - val_loss: 0.0678 - val_acc: 0.9830\n",
      "Epoch 7/100\n",
      "54000/54000 [==============================] - 20s - loss: 0.0387 - acc: 0.9884 - val_loss: 0.0711 - val_acc: 0.9818\n"
     ]
    }
   ],
   "source": [
    "hist2 = model2.fit(X_train, y_train,\n",
    "                 batch_size=batch_size,\n",
    "                 verbose=1,\n",
    "                 nb_epoch=100,\n",
    "                 validation_split=0.1,\n",
    "                 callbacks=[early_stopping]\n",
    "                 )"
   ]
  },
  {
   "cell_type": "code",
   "execution_count": 15,
   "metadata": {
    "collapsed": false
   },
   "outputs": [
    {
     "name": "stdout",
     "output_type": "stream",
     "text": [
      " 9984/10000 [============================>.] - ETA: 0sTest loss: 0.0823358456761\n",
      "Test accuracy: 0.9809\n"
     ]
    }
   ],
   "source": [
    "# evaluate\n",
    "score2 = model2.evaluate(X_test, y_test, verbose=1)\n",
    "print('Test loss:', score2[0])\n",
    "print('Test accuracy:', score2[1])"
   ]
  },
  {
   "cell_type": "code",
   "execution_count": 16,
   "metadata": {
    "collapsed": false
   },
   "outputs": [
    {
     "data": {
      "image/png": "[encoded data removed]",
      "text/plain": [
       "<matplotlib.figure.Figure at 0x124c97910>"
      ]
     },
     "metadata": {},
     "output_type": "display_data"
    }
   ],
   "source": [
    "# plot loss\n",
    "loss2 = hist2.history['loss']\n",
    "val_loss2 = hist2.history['val_loss']\n",
    "\n",
    "nb_epoch2 = len(loss2)\n",
    "plt.plot(range(nb_epoch2), loss2, marker='.', label='loss')\n",
    "plt.plot(range(nb_epoch2), val_loss2, marker='.', label='val_loss')\n",
    "plt.legend(loc='best', fontsize=10)\n",
    "plt.grid()\n",
    "plt.xlabel('epoch')\n",
    "plt.ylabel('loss')\n",
    "plt.show()"
   ]
  },
  {
   "cell_type": "code",
   "execution_count": null,
   "metadata": {
    "collapsed": true
   },
   "outputs": [],
   "source": []
  }
 ],
 "metadata": {
  "kernelspec": {
   "display_name": "Python 2",
   "language": "python",
   "name": "python2"
  },
  "language_info": {
   "codemirror_mode": {
    "name": "ipython",
    "version": 2
   },
   "file_extension": ".py",
   "mimetype": "text/x-python",
   "name": "python",
   "nbconvert_exporter": "python",
   "pygments_lexer": "ipython2",
   "version": "2.7.11"
  }
 },
 "nbformat": 4,
 "nbformat_minor": 0
}
